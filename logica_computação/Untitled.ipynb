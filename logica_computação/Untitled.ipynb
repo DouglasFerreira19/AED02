{
 "cells": [
  {
   "cell_type": "code",
   "execution_count": null,
   "id": "71e55b4c-d6a6-48ea-985a-a9b99b3c4183",
   "metadata": {},
   "outputs": [],
   "source": [
    "#p ^ ( p <-> q )\n",
    "print(f\" P | Q | P - Q | P ^ ( P - Q ) \")\n",
    "n=0\n",
    "print"
   ]
  }
 ],
 "metadata": {
  "kernelspec": {
   "display_name": "Python [conda env:base] *",
   "language": "python",
   "name": "conda-base-py"
  },
  "language_info": {
   "codemirror_mode": {
    "name": "ipython",
    "version": 3
   },
   "file_extension": ".py",
   "mimetype": "text/x-python",
   "name": "python",
   "nbconvert_exporter": "python",
   "pygments_lexer": "ipython3",
   "version": "3.12.7"
  }
 },
 "nbformat": 4,
 "nbformat_minor": 5
}
